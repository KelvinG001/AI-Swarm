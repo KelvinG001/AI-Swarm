{
 "cells": [
  {
   "cell_type": "code",
   "execution_count": null,
   "metadata": {},
   "outputs": [],
   "source": [
    "import pandas\n",
    "import numpy\n",
    "import openai\n",
    "import requests\n",
    "import json\n",
    "import openai\n",
    "\n",
    "# =\"input your own openai api key. Github do not allow to contain secret info\""
   ]
  },
  {
   "cell_type": "code",
   "execution_count": 2,
   "metadata": {},
   "outputs": [],
   "source": [
    "def call_GPT(query, answer_format, temperature=0.5, model=\"gpt-4-turbo\", DNA=True, max_token=150, specialist=None):\n",
    "    \"\"\"\n",
    "    Ask GPT to answer the input question in a required format.\n",
    "\n",
    "    Parameters:\n",
    "    - query: The question or prompt you want GPT to answer.\n",
    "    - answer_format: The format in which you'd like GPT's response to be structured.\n",
    "    - max_token: The maximum number of tokens in GPT's response to control response length.\n",
    "    - model : The ChatGPT model you want to use\n",
    "\n",
    "    Returns:\n",
    "    - response: GPT's response to the query, formatted as specified by `answer_format` and within the `max_token` limit.\n",
    "    \"\"\"\n",
    "    \n",
    "    if DNA:\n",
    "        messages = [\n",
    "        {\n",
    "            \"role\": \"user\",\n",
    "            \"content\": f'{query}, please answer the question in the following format: \"{answer_format}\", do not give anything except json object. Answer within maxium token of {max_token}.',\n",
    "        }\n",
    "        ]\n",
    "    else:\n",
    "        messages = [\n",
    "        {\n",
    "            \"role\": \"user\",\n",
    "            \"content\": f'{query}, please answer the question in the following format: \"{answer_format}\", do not give anything except json object. Answer within maxium token of {max_token}',\n",
    "        },\n",
    "        {\n",
    "            \"role\": \"system\", \n",
    "            \"content\": f'You are a {specialist}.'\n",
    "            }\n",
    "        ]\n",
    "        \n",
    "    response = openai.chat.completions.create(\n",
    "    messages = messages,\n",
    "    model = model,\n",
    "    max_tokens = max_token\n",
    "    )\n",
    "    content = response.choices[0].message.content\n",
    "    \n",
    "    return content"
   ]
  },
  {
   "cell_type": "code",
   "execution_count": 3,
   "metadata": {},
   "outputs": [],
   "source": [
    "def DNA_node(query, max_node_number = 10, summary = False, specialist_group = None, concentrated_response = None, max_token = 200):\n",
    "    '''\n",
    "    activate DNA node to specify roles for available nodes\n",
    "\n",
    "    Parameters:\n",
    "    - query: Ask GPT to decide the number of specialists it needs to solve the problem and the role of each specialist\n",
    "    - max_node_number: The max number of nodes you want to activate\n",
    "\n",
    "    Returns:\n",
    "    - specialists: A Json object containing the the information of specialist group\n",
    "    '''\n",
    "\n",
    "    if not summary:\n",
    "        prompt = '''You are assigned a particular task as follows: \"{query}\", and you can use up to {max_node_number} specialists to solve this task. \n",
    "                    Please decide the number of specialists you want to use and specify their rolls (e.g mathmatician, physician, psychologist etc.).Use more specilists in one particular field if you think it is needed. \n",
    "                    Please also balance the cost and the efficiency when using the specialists.\n",
    "                    '''.format(query=query, max_node_number=max_node_number)\n",
    "        \n",
    "        answer_format = {\n",
    "            \"number of specialists\": 6,\n",
    "            \"role of the specialists\": [\"mathmatician\", \"physician\"],\n",
    "            \"number of each specialists\": [2,4],\n",
    "            \"reason\": \"explaine why you want to use such many specialists and seperate them in this way\",\n",
    "            \"question\": \"repeat what is the query\"\n",
    "                        }\n",
    "        \n",
    "        specialists = call_GPT(query=prompt, answer_format=answer_format, max_token=max_token, model=\"gpt-4-turbo\")\n",
    "        \n",
    "        return specialists\n",
    "    \n",
    "    else:\n",
    "        prompt = '''\n",
    "                You previously designated a specialist group as follows: \"{specialist_group}\" to solve this question: \"{query}\". Here are the answers from the specialist group: \"{concentrated_response}\". \n",
    "                Combine all the answers into one answer. Try to balance details and length. Give your answer within {max_token} tokens. \n",
    "                '''.format(specialist_group = specialist_group, query = query, concentrated_response = concentrated_response, max_token = max_token)\n",
    "        \n",
    "        answer_format = {\n",
    "            \"combined answer\": \"write your combined answer here\",\n",
    "            \"satisfactory\": \"Y/N, answer Y if you are satisfied with this answer. Answer N otherwise\",\n",
    "            \"debate/rearrange\": \"D/R/NA, answer D if you want to maintain the current structure of specialist group and start a new round of discussion. Answer R if you want to rearrange the specialist group and start from the beginning. Answer R only when you think the current specialist group cannot handle this question properly. Answer NA if you think the current answer is good enough.\",\n",
    "        }\n",
    "\n",
    "        response = call_GPT(query=prompt, answer_format=answer_format, max_token=max_token, model=\"gpt-4-turbo\")\n",
    "\n",
    "        return response"
   ]
  },
  {
   "cell_type": "code",
   "execution_count": 4,
   "metadata": {},
   "outputs": [],
   "source": [
    "def specialists_divider(response):\n",
    "    '''\n",
    "    Divide the roles for specialists based on the decision of DNA node\n",
    "\n",
    "    Parameters:\n",
    "    - response: The response of DNA node\n",
    "    - total_number: The total number of specialists needed by DNA node\n",
    "\n",
    "    Returns:\n",
    "    - specialist_group : a dictionary where keys are the role and contents are their correponding number\n",
    "    - total number : The total number of specialists required\n",
    "    '''\n",
    "    response_json = json.loads(response)\n",
    "    specialists = response_json['role of the specialists']\n",
    "    numbers = response_json['number of each specialists']\n",
    "\n",
    "    specialists_group = {}\n",
    "\n",
    "    for i, specialist in enumerate(specialists):\n",
    "        specialists_group[specialist] = numbers[i]\n",
    "\n",
    "    total_number = response_json['number of specialists']\n",
    "\n",
    "    return specialists_group, total_number\n"
   ]
  },
  {
   "cell_type": "code",
   "execution_count": 5,
   "metadata": {},
   "outputs": [],
   "source": [
    "def stem_cell_node(query, answer_format, specialists_group, debate=False, specialist=None, model=\"gpt-4-turbo\", max_token=150):\n",
    "    \"\"\"\n",
    "    Activate stem_cell_node according to the decision made by DNA node to answer specific questions\n",
    "\n",
    "    Parameters:\n",
    "    - query: The question or prompt you want GPT to answer.\n",
    "    - answer_format: The format in which you'd like GPT's response to be structured.\n",
    "    - max_token: The maximum number of tokens in GPT's response to control response length.\n",
    "    - model: The ChatGPT model you want to use\n",
    "    - specialist: The specified role of this node(etc. Physician)\n",
    "\n",
    "    Returns:\n",
    "    - response: GPT's response to the query, formatted as specified by `answer_format` and within the `max_token` limit, the final response should be a python dictionary\n",
    "    \"\"\"\n",
    "    if not debate:\n",
    "        response = {}\n",
    "        for specialists in specialists_group:\n",
    "            response[specialists] = []\n",
    "            for i in range(specialists_group[specialists]):\n",
    "                ans = call_GPT(query=query, answer_format=answer_format, model=model, DNA=False, max_token=max_token, specialist=specialists)\n",
    "                response[specialists].append(ans)\n",
    "\n",
    "    if debate:\n",
    "        response = {}\n",
    "        for i in range(specialists_group[specialist]):\n",
    "            ans = call_GPT(query=query, answer_format=answer_format, model=model, DNA=False, max_token=max_token, specialist=specialist)\n",
    "            response[specialist] = []\n",
    "            response[specialist].append(ans)\n",
    "\n",
    "\n",
    "    return response\n"
   ]
  },
  {
   "cell_type": "code",
   "execution_count": 6,
   "metadata": {},
   "outputs": [],
   "source": [
    "def ans_combiner(ans, answer_format, model = \"gpt-4-turbo\", max_token = 200):\n",
    "    query = '''\n",
    "            Combine the following answer into one answer: {ans}. Try to balance details and length. Give your answer within {max_token} tokens\n",
    "            '''.format(ans = ans, max_token = max_token)\n",
    "    \n",
    "    response = call_GPT(query=query, answer_format=answer_format, model=model, DNA=False, max_token=max_token)\n",
    "\n",
    "    return response\n",
    "    "
   ]
  },
  {
   "cell_type": "code",
   "execution_count": 20,
   "metadata": {},
   "outputs": [],
   "source": [
    "query = 'analyze the current GDP trend of China'\n",
    "answer_format = {\n",
    "    \"confidence_rate\": \"0%-100% based on your confidence to your response, if you do not have confidence at all write 0% here. Only input integer here.\",\n",
    "    # adding confidence_rate will make GPT more cautious, and therefore give equalvocal response. I decided to mark it off to enhence the perfomance. \n",
    "    \"response\": \"write your reponse here\"}"
   ]
  },
  {
   "cell_type": "code",
   "execution_count": 9,
   "metadata": {},
   "outputs": [
    {
     "data": {
      "text/plain": [
       "'{\\n    \"number of specialists\": 6,\\n    \"role of the specialists\": [\"economist\", \"data analyst\", \"political scientist\", \"sociologist\"],\\n    \"number of each specialists\": [2, 2, 1, 1],\\n    \"reason\": \"Economists are crucial for understanding economic theories and GDP components. Data analysts will handle and interpret GDP data trends and projections efficiently. A political scientist will provide insights on government policies affecting GDP. A sociologist will analyze social factors influencing economic activities. This distribution ensures a comprehensive and multidisciplinary analysis balancing expertise and cost-efficiency.\",\\n    \"question\": \"analyze the current GDP trend of China\"\\n}'"
      ]
     },
     "execution_count": 9,
     "metadata": {},
     "output_type": "execute_result"
    }
   ],
   "source": [
    "specialists = DNA_node(query=query)\n",
    "specialists"
   ]
  },
  {
   "cell_type": "code",
   "execution_count": 10,
   "metadata": {},
   "outputs": [],
   "source": [
    "specialists_group, total_number = specialists_divider(specialists)\n"
   ]
  },
  {
   "cell_type": "code",
   "execution_count": 21,
   "metadata": {},
   "outputs": [
    {
     "data": {
      "text/plain": [
       "{'economist': ['{\\n  \"confidence_rate\": \"75%\",\\n  \"response\": \"As of 2023, China\\'s GDP growth has shown signs of slowing compared to its pre-pandemic rates, primarily due to domestic challenges such as property sector debt and COVID-19 disruptions. The government is implementing regulatory measures and economic policies to stabilize growth.\"\\n}',\n",
       "  '{\\n  \"confidence_rate\": \"85%\",\\n  \"response\": \"China\\'s GDP growth has been slowing in recent times due to various internal and external challenges including regulatory crackdowns, real estate sector troubles, and global economic pressures. However, it remains robust compared to many other major economies.\"\\n}'],\n",
       " 'data analyst': ['{\\n  \"confidence_rate\": \"75%\",\\n  \"response\": \"China\\'s GDP trend has seen fluctuations but generally maintains a growth trajectory. Recent trends indicate a deceleration influenced by various factors including COVID-19 impacts, regulatory tightening in certain sectors, and global economic pressures. However, sustained efforts towards technological advancement and internal consumption continue to support its economy.\"\\n}',\n",
       "  '{\\n  \"confidence_rate\": \"75%\",\\n  \"response\": \"China\\'s GDP growth has been slowing in recent years, affected by various factors including COVID-19 disruptions, demographic shifts, and debt challenges. Despite these issues, the Chinese government is implementing policies to stabilize and stimulate the economy.\"\\n}'],\n",
       " 'political scientist': ['{\\n    \"confidence_rate\": \"75%\",\\n    \"response\": \"As of the latest data, China\\'s GDP growth shows a decelerating trend amid internal challenges like property sector issues and external factors such as global economic slowdowns. The government aims for moderate growth with recent stimulus measures to stabilize the economy.\"\\n}'],\n",
       " 'sociologist': ['{\\n    \"confidence_rate\": \"80%\",\\n    \"response\": \"China\\'s GDP trend has shown resilience with relatively stable growth, adapting despite various international and domestic challenges. However, uncertainties related to global economic conditions and domestic policy adjustments still pose risks.\"\\n}']}"
      ]
     },
     "execution_count": 21,
     "metadata": {},
     "output_type": "execute_result"
    }
   ],
   "source": [
    "response = stem_cell_node(query=query, answer_format=answer_format, specialists_group=specialists_group)\n",
    "response"
   ]
  },
  {
   "cell_type": "code",
   "execution_count": null,
   "metadata": {},
   "outputs": [
    {
     "name": "stdout",
     "output_type": "stream",
     "text": [
      "1.0\n",
      "economist arrived in the final conclusion\n",
      "1.0\n",
      "data analyst arrived in the final conclusion\n",
      "Answer for political scientist recorded!\n",
      "Answer for sociologist recorded!\n"
     ]
    }
   ],
   "source": [
    "concentrated_response = {}\n",
    "new_response = {}\n",
    "combined_response = {}\n",
    "for specialist in response:\n",
    "    if len(response[specialist]) == 1:\n",
    "        concentrated_response[specialist] = response[specialist]\n",
    "        print(f'Answer for {specialist} recorded!')\n",
    "    else:\n",
    "        new_response[specialist] = []\n",
    "        combined_response[specialist] = []\n",
    "        for i in range(len(response[specialist])):\n",
    "            query = '''\n",
    "                    Here are the responses from other {specialist}s in your group: \"{response1}\". Here is your original response: \"{response2}\"Do you think you can improve your response?\n",
    "                '''.format(specialist = specialist, response1 = response[specialist][i], response2 = response[specialist][:i] + response[specialist][i+1:])\n",
    "            answer_format = {\n",
    "                \"improvement\": \"Y/N, answer Y if you think your original response needs improvement. Answer N otherwise\",\n",
    "                \"response\": \"update your response\",\n",
    "                \"reason\": \"Where have you improved? What have you learnt from the other specialists?\",\n",
    "                \"further_improvement\": \"Y/N, answer Y if you think your updated response needs further improvement. Answer N otherwise\"\n",
    "            }\n",
    "            ans = stem_cell_node(query=query, answer_format=answer_format, specialists_group=specialists_group, debate=True, specialist=specialist, max_token=400)\n",
    "            new_response[specialist].append(ans)\n",
    "            for item in new_response[specialist]:\n",
    "                combined_response[specialist].extend(item[specialist])\n",
    "            \n",
    "        total = 0\n",
    "        N = 0\n",
    "        for item in combined_response[specialist]:\n",
    "            total +=1\n",
    "            json_item = json.loads(item)\n",
    "            if json_item['further_improvement'] == 'N':\n",
    "                N +=1\n",
    "        print(N/total)\n",
    "        if N/total >= 0.5:\n",
    "            print(f'{specialist} arrived in the final conclusion')\n",
    "            ans_format = {\n",
    "                # \"confidence_rate\": \"0%-100% based on your confidence to your response, if you do not have confidence at all write 0% here. Only input integer here.\",\n",
    "                # adding confidence_rate will make GPT more cautious, and therefore give equalvocal response. I decided to mark it off to enhence the perfomance. \n",
    "                \"response\": \"write your reponse here\"}\n",
    "            concentrated_response[specialist] = ans_combiner(combined_response[specialist], answer_format=ans_format)\n",
    "            \n",
    "            \n",
    "\n",
    "            \n",
    "\n"
   ]
  },
  {
   "cell_type": "code",
   "execution_count": 17,
   "metadata": {},
   "outputs": [],
   "source": [
    "query = 'analyze the current GDP trend of China'"
   ]
  },
  {
   "cell_type": "code",
   "execution_count": 18,
   "metadata": {},
   "outputs": [],
   "source": [
    "final_response = DNA_node(query=query, summary=True, specialist_group=specialists_group, concentrated_response=concentrated_response)"
   ]
  },
  {
   "cell_type": "code",
   "execution_count": 19,
   "metadata": {},
   "outputs": [
    {
     "data": {
      "text/plain": [
       "'{\\n    \"combined answer\": \"As of 2023, China\\'s GDP growth trend indicates stability and recovery post-COVID-19, though the pace has moderated compared to historical rates. Factors such as aging demographics, increased debt, stringent regulations in key sectors, trade tensions, and global economic shifts have slowed growth. Notably, domestic challenges like real estate volatility and regulatory changes impact tech and private sectors. In response, China is steering its economic policy towards boosting domestic consumption, technology advancement, and export competitiveness, transitioning from an investment-heavy to a consumption-driven model for sustainable growth.\",\\n    \"satisfactory\": \"Y\",\\n    \"debate/rearrange\": \"NA\"\\n}'"
      ]
     },
     "execution_count": 19,
     "metadata": {},
     "output_type": "execute_result"
    }
   ],
   "source": [
    "final_response"
   ]
  },
  {
   "cell_type": "code",
   "execution_count": 102,
   "metadata": {},
   "outputs": [
    {
     "data": {
      "text/plain": [
       "{'economist': '```json\\n{\\n  \"response\": \"As of 2023, China\\'s GDP shows steady but slowing growth due to demographic shifts, rising debt, and trade tensions, mainly with the US. The COVID-19 pandemic\\'s lingering effects also impact economic activities. In response, the government has boosted domestic consumption, fostered technological innovation, and promoted sustainable practices. These measures aim to stabilize and future-proof the economy amidst global uncertainties and internal challenges, maintaining a focus on long-term economic health over short-term gains.\"\\n}\\n```',\n",
       " 'data analyst': '```json\\n{\\n    \"response\": \"As of my last update prior to 2023, China\\'s GDP growth has been influenced by multiple factors. Initially, there was a sharp decline due to the COVID-19 pandemic, followed by a rapid rebound facilitated by aggressive public health measures and extensive fiscal stimulus. However, the post-recovery period has displayed more moderate growth rates due to regulatory tightening in key sectors and instability in the real estate market. Escalating trade tensions and global economic slowdowns, along with internal demographic shifts, have also played a role. Looking forward, the focus on sustainable and high-quality development is expected to moderate the historically high growth rates.\"\\n}\\n```',\n",
       " 'political analyst': [\"{'response': 'As of the latest data before my last update in 2023, China's GDP growth showed signs of slowdown compared to its performance in previous decades. The slowdown was influenced by various factors such as demographic changes, with a growing aging population, an increase in debt levels, and trade tensions with other major economies, including the United States. Additionally, China's government has been focused on implementing regulatory reforms and controlling high-risk financial practices, which also affect short-term economic growth rates. Despite these challenges, the country continued to maintain a positive GDP growth rate, albeit at a lower rate than the high growth experienced in the early 2000s.'}\"]}"
      ]
     },
     "execution_count": 102,
     "metadata": {},
     "output_type": "execute_result"
    }
   ],
   "source": [
    "concentrated_response"
   ]
  },
  {
   "cell_type": "code",
   "execution_count": 90,
   "metadata": {},
   "outputs": [
    {
     "data": {
      "text/plain": [
       "'```json\\n{\\n  \"response\": \"As of 2023, China\\'s GDP shows steady but slowing growth due to demographic shifts, rising debt, and trade tensions, mainly with the US. The COVID-19 pandemic\\'s lingering effects also impact economic activities. In response, the government has boosted domestic consumption, fostered technological innovation, and promoted sustainable practices. These measures aim to stabilize and future-proof the economy amidst global uncertainties and internal challenges, maintaining a focus on long-term economic health over short-term gains.\"\\n}\\n```'"
      ]
     },
     "execution_count": 90,
     "metadata": {},
     "output_type": "execute_result"
    }
   ],
   "source": []
  },
  {
   "cell_type": "code",
   "execution_count": 89,
   "metadata": {},
   "outputs": [
    {
     "ename": "AttributeError",
     "evalue": "'str' object has no attribute 'read'",
     "output_type": "error",
     "traceback": [
      "\u001b[1;31m---------------------------------------------------------------------------\u001b[0m",
      "\u001b[1;31mAttributeError\u001b[0m                            Traceback (most recent call last)",
      "Cell \u001b[1;32mIn[89], line 1\u001b[0m\n\u001b[1;32m----> 1\u001b[0m \u001b[43mjson\u001b[49m\u001b[38;5;241;43m.\u001b[39;49m\u001b[43mload\u001b[49m\u001b[43m(\u001b[49m\u001b[43ma\u001b[49m\u001b[43m)\u001b[49m\n",
      "File \u001b[1;32mc:\\Users\\guyu8\\anaconda3\\envs\\AI_Swarm\\lib\\json\\__init__.py:293\u001b[0m, in \u001b[0;36mload\u001b[1;34m(fp, cls, object_hook, parse_float, parse_int, parse_constant, object_pairs_hook, **kw)\u001b[0m\n\u001b[0;32m    274\u001b[0m \u001b[38;5;28;01mdef\u001b[39;00m \u001b[38;5;21mload\u001b[39m(fp, \u001b[38;5;241m*\u001b[39m, \u001b[38;5;28mcls\u001b[39m\u001b[38;5;241m=\u001b[39m\u001b[38;5;28;01mNone\u001b[39;00m, object_hook\u001b[38;5;241m=\u001b[39m\u001b[38;5;28;01mNone\u001b[39;00m, parse_float\u001b[38;5;241m=\u001b[39m\u001b[38;5;28;01mNone\u001b[39;00m,\n\u001b[0;32m    275\u001b[0m         parse_int\u001b[38;5;241m=\u001b[39m\u001b[38;5;28;01mNone\u001b[39;00m, parse_constant\u001b[38;5;241m=\u001b[39m\u001b[38;5;28;01mNone\u001b[39;00m, object_pairs_hook\u001b[38;5;241m=\u001b[39m\u001b[38;5;28;01mNone\u001b[39;00m, \u001b[38;5;241m*\u001b[39m\u001b[38;5;241m*\u001b[39mkw):\n\u001b[0;32m    276\u001b[0m \u001b[38;5;250m    \u001b[39m\u001b[38;5;124;03m\"\"\"Deserialize ``fp`` (a ``.read()``-supporting file-like object containing\u001b[39;00m\n\u001b[0;32m    277\u001b[0m \u001b[38;5;124;03m    a JSON document) to a Python object.\u001b[39;00m\n\u001b[0;32m    278\u001b[0m \n\u001b[1;32m   (...)\u001b[0m\n\u001b[0;32m    291\u001b[0m \u001b[38;5;124;03m    kwarg; otherwise ``JSONDecoder`` is used.\u001b[39;00m\n\u001b[0;32m    292\u001b[0m \u001b[38;5;124;03m    \"\"\"\u001b[39;00m\n\u001b[1;32m--> 293\u001b[0m     \u001b[38;5;28;01mreturn\u001b[39;00m loads(\u001b[43mfp\u001b[49m\u001b[38;5;241;43m.\u001b[39;49m\u001b[43mread\u001b[49m(),\n\u001b[0;32m    294\u001b[0m         \u001b[38;5;28mcls\u001b[39m\u001b[38;5;241m=\u001b[39m\u001b[38;5;28mcls\u001b[39m, object_hook\u001b[38;5;241m=\u001b[39mobject_hook,\n\u001b[0;32m    295\u001b[0m         parse_float\u001b[38;5;241m=\u001b[39mparse_float, parse_int\u001b[38;5;241m=\u001b[39mparse_int,\n\u001b[0;32m    296\u001b[0m         parse_constant\u001b[38;5;241m=\u001b[39mparse_constant, object_pairs_hook\u001b[38;5;241m=\u001b[39mobject_pairs_hook, \u001b[38;5;241m*\u001b[39m\u001b[38;5;241m*\u001b[39mkw)\n",
      "\u001b[1;31mAttributeError\u001b[0m: 'str' object has no attribute 'read'"
     ]
    }
   ],
   "source": []
  },
  {
   "cell_type": "code",
   "execution_count": 38,
   "metadata": {},
   "outputs": [
    {
     "data": {
      "text/plain": [
       "{'economist': ['{\\n    \"improvement\": \"Y\",\\n    \"response\": \"As of the latest updates up until 2023, China\\'s GDP has shown signs of gradual growth, although at a more moderate pace compared to previous decades. The country is navigating numerous economic challenges including demographic shifts, rising debt levels, and trade tensions with major economies such as the U.S. Additionally, impacts from the COVID-19 pandemic and internal policy adjustments aimed at technology regulation and real estate market stabilization have also influenced economic trends. In response, the Chinese government has been focusing on policies that boost domestic consumption, invest in technological advancements, and promote sustainable economic practices, aiming to secure stability and sustain growth.\",\\n    \"reason\": \"The improved response synthesizes elements from the other economist’s remarks, particularly emphasizing the variety of influences on China’s economic trajectory such as trade tensions, pandemic impacts, and government interventions in technology and real estate. It also incorporates the notion of China’s shift towards a more consumption-driven and service-oriented economy.\",\\n    \"further_improvement\": \"N\"\\n}',\n",
       "  '{\\n    \"improvement\": \"Y\",\\n    \"response\": \"As of the latest updates up until 2023, China\\'s GDP has shown signs of gradual growth, although at a more moderate pace compared to previous decades. The country is navigating numerous economic challenges including demographic shifts, rising debt levels, and trade tensions with major economies such as the U.S. Additionally, impacts from the COVID-19 pandemic and internal policy adjustments aimed at technology regulation and real estate market stabilization have also influenced economic trends. In response, the Chinese government has been focusing on policies that boost domestic consumption, invest in technological advancements, and promote sustainable economic practices, aiming to secure stability and sustain growth.\",\\n    \"reason\": \"The improved response synthesizes elements from the other economist’s remarks, particularly emphasizing the variety of influences on China’s economic trajectory such as trade tensions, pandemic impacts, and government interventions in technology and real estate. It also incorporates the notion of China’s shift towards a more consumption-driven and service-oriented economy.\",\\n    \"further_improvement\": \"N\"\\n}',\n",
       "  '{\\n  \"improvement\": \"Y\",\\n  \"response\": \"As of the latest updates up until 2023, China\\'s GDP continues to grow, though at a slower pace compared to previous decades. This trend reflects various economic challenges including demographic shifts, increasing debt levels, and ongoing global trade tensions. Moreover, the impact of the COVID-19 pandemic has significantly influenced economic activities, ushering shifts towards more consumption-driven and service-oriented sectors. The Chinese government\\'s response includes stimulating domestic consumption, investing in technological advancements, and focusing on sustainable economic practices to foster stability and support continued growth. These measures aim both at short-term recovery and securing long-term economic stability.\",\\n  \"reason\": \"The updated response integrates more specific information about the government\\'s strategies in response to the economic challenges, which was mentioned in a peer\\'s response but lacking in the original ones. It provides a clearer and more comprehensive view of the factors influencing China\\'s current GDP trend and governmental actions.\",\\n  \"further_improvement\": \"N\"\\n}',\n",
       "  '{\\n    \"improvement\": \"Y\",\\n    \"response\": \"As of the latest updates up until 2023, China\\'s GDP has shown signs of gradual growth, although at a more moderate pace compared to previous decades. The country is navigating numerous economic challenges including demographic shifts, rising debt levels, and trade tensions with major economies such as the U.S. Additionally, impacts from the COVID-19 pandemic and internal policy adjustments aimed at technology regulation and real estate market stabilization have also influenced economic trends. In response, the Chinese government has been focusing on policies that boost domestic consumption, invest in technological advancements, and promote sustainable economic practices, aiming to secure stability and sustain growth.\",\\n    \"reason\": \"The improved response synthesizes elements from the other economist’s remarks, particularly emphasizing the variety of influences on China’s economic trajectory such as trade tensions, pandemic impacts, and government interventions in technology and real estate. It also incorporates the notion of China’s shift towards a more consumption-driven and service-oriented economy.\",\\n    \"further_improvement\": \"N\"\\n}',\n",
       "  '{\\n  \"improvement\": \"Y\",\\n  \"response\": \"As of the latest updates up until 2023, China\\'s GDP continues to grow, though at a slower pace compared to previous decades. This trend reflects various economic challenges including demographic shifts, increasing debt levels, and ongoing global trade tensions. Moreover, the impact of the COVID-19 pandemic has significantly influenced economic activities, ushering shifts towards more consumption-driven and service-oriented sectors. The Chinese government\\'s response includes stimulating domestic consumption, investing in technological advancements, and focusing on sustainable economic practices to foster stability and support continued growth. These measures aim both at short-term recovery and securing long-term economic stability.\",\\n  \"reason\": \"The updated response integrates more specific information about the government\\'s strategies in response to the economic challenges, which was mentioned in a peer\\'s response but lacking in the original ones. It provides a clearer and more comprehensive view of the factors influencing China\\'s current GDP trend and governmental actions.\",\\n  \"further_improvement\": \"N\"\\n}',\n",
       "  '{\\n    \"improvement\": \"Y\",\\n    \"response\": \"As of my last update, China\\'s GDP has demonstrated a pattern of growth impacted by various factors including trade relations, notably with the U.S., the global and domestic challenges posed by the COVID-19 pandemic, and significant domestic policy adjustments targeting debt control and economic restructuring. Historically, China experienced rapid growth, driven by manufacturing, exports, and domestic consumption. In recent years, this growth has moderated as the economy matures, transitioning towards a more consumption and service-oriented model. There are ongoing efforts by the government to ensure sustainable growth, which may affect short-term GDP figures but are aimed at stabilizing the long-term economic foundation. For the most accurate and current trends, please refer to the latest financial reports or reliable economic data sources.\",\\n    \"reason\": \"In the updated response, I integrated and refined elements from both previous responses and the feedback from other economists, focusing on providing a more comprehensive overview of the factors influencing China\\'s GDP trends while acknowledging the shift towards sustainability and the importance of the latest data sources for the most current trends.\",\\n    \"further_improvement\": \"N\"\\n}'],\n",
       " 'data analyst': ['{\\n  \"improvement\": \"Y\",\\n  \"response\": \"As of the latest updates prior to 2023, China\\'s GDP growth has shown signs of deceleration compared to its historic rapid growth rates. Factors influencing this trend include government efforts to curb debt risks, trade tensions with the U.S., and the impact of the COVID-19 pandemic. Despite these challenges, China\\'s economy continues to grow at a relatively robust rate. However, concerns remain about the sustainability of this growth amid ongoing internal and external pressures. Additionally, regulatory tightening in technology and education sectors, instability in the real estate market, and demographic shifts further affect economic forecasts. Moving forward, moderate growth is expected as the government focuses on sustainable and high-quality development.\",\\n  \"reason\": \"I refined the original response by integrating insights from others in the group about specific sectors affected and the strategic shifts toward sustainable growth. This broader view helps in understanding the nuanced dynamics of China\\'s economic situation.\",\\n  \"further_improvement\": \"N\"\\n}',\n",
       "  '{\\n  \"improvement\": \"Y\",\\n  \"response\": \"As of the latest updates prior to 2023, China\\'s GDP growth has shown signs of deceleration compared to its historic rapid growth rates. Factors influencing this trend include government efforts to curb debt risks, trade tensions with the U.S., and the impact of the COVID-19 pandemic. Despite these challenges, China\\'s economy continues to grow at a relatively robust rate. However, concerns remain about the sustainability of this growth amid ongoing internal and external pressures. Additionally, regulatory tightening in technology and education sectors, instability in the real estate market, and demographic shifts further affect economic forecasts. Moving forward, moderate growth is expected as the government focuses on sustainable and high-quality development.\",\\n  \"reason\": \"I refined the original response by integrating insights from others in the group about specific sectors affected and the strategic shifts toward sustainable growth. This broader view helps in understanding the nuanced dynamics of China\\'s economic situation.\",\\n  \"further_improvement\": \"N\"\\n}',\n",
       "  '{\\n  \"improvement\": \"Y\",\\n  \"response\": \"As of the latest updates prior to 2023, China\\'s GDP trends reflect a multifaceted pattern. Initially, China experienced a swift economic recovery post-COVID-19, facilitated by stringent public health measures and significant fiscal stimulus. However, its post-recovery growth faced setbacks due to domestic regulations aimed at the technology and education sectors, instability in the real estate market, and continued trade tensions with the United States. Additionally, broader factors such as a global economic downturn and internal demographic shifts are further complicating its economic landscape. Despite these challenges, China\\'s economy continues to grow, supported by the government\\'s focus on sustainable and high-quality development, although the growth rate has decelerated from the historic highs of previous decades. There is ongoing concern regarding the sustainability of this growth amid persistent internal and external pressures.\",\\n  \"reason\": \"The updated response integrates a broader perspective on China\\'s economic situation, refining the understanding of influences like government policies, international relations, and global economic conditions on its GDP trends. This enhancement captures a more comprehensive and nuanced view of the challenges and strategies in play, emphasizing the complexity of predicting future economic developments.\",\\n  \"further_improvement\": \"N\"\\n}']}"
      ]
     },
     "execution_count": 38,
     "metadata": {},
     "output_type": "execute_result"
    }
   ],
   "source": [
    "combined_response"
   ]
  },
  {
   "cell_type": "code",
   "execution_count": 39,
   "metadata": {},
   "outputs": [
    {
     "data": {
      "text/plain": [
       "{'political analyst': [\"{'response': 'As of the latest data before my last update in 2023, China's GDP growth showed signs of slowdown compared to its performance in previous decades. The slowdown was influenced by various factors such as demographic changes, with a growing aging population, an increase in debt levels, and trade tensions with other major economies, including the United States. Additionally, China's government has been focused on implementing regulatory reforms and controlling high-risk financial practices, which also affect short-term economic growth rates. Despite these challenges, the country continued to maintain a positive GDP growth rate, albeit at a lower rate than the high growth experienced in the early 2000s.'}\"]}"
      ]
     },
     "execution_count": 39,
     "metadata": {},
     "output_type": "execute_result"
    }
   ],
   "source": [
    "concentrated_response"
   ]
  },
  {
   "cell_type": "code",
   "execution_count": 33,
   "metadata": {},
   "outputs": [
    {
     "name": "stdout",
     "output_type": "stream",
     "text": [
      "['{\\n  \"improvement\": \"Y\",\\n  \"response\": \"As of the latest updates up until 2023, China\\'s GDP has shown signs of steady growth, though at a reduced pace compared to earlier decades. The slowdown can be attributed to a variety of economic challenges including demographic changes, increased debt ratios, and ongoing trade disagreements with key global players. The Chinese government has responded with a range of policies aimed at boosting domestic consumption, fostering technological innovation, and promoting sustainable economic activities to ensure long-term stability and continued expansion of the economy.\",\\n  \"reason\": \"The improved response integrates insights from the other economists about factors influencing China\\'s GDP, such as trade tensions and the COVID-19 pandemic, while emphasizing more on governmental measures to promote economic stability and sustainability.\",\\n  \"further_improvement\": \"N\"\\n}']\n"
     ]
    }
   ],
   "source": [
    "for item in new_response['economist']:\n",
    "    print(item['economist'])"
   ]
  },
  {
   "cell_type": "code",
   "execution_count": 27,
   "metadata": {},
   "outputs": [
    {
     "name": "stdout",
     "output_type": "stream",
     "text": [
      "economist\n"
     ]
    }
   ],
   "source": [
    "for item in new_response:\n",
    "    print(item)"
   ]
  },
  {
   "cell_type": "code",
   "execution_count": 19,
   "metadata": {},
   "outputs": [
    {
     "data": {
      "text/plain": [
       "{'economist': [{'economist': ['{\\n    \"improvement\": \"Y\",\\n    \"response\": \"As of the last data available up to 2023, China\\'s GDP has displayed a pattern of gradual growth, although at a reduced pace compared to previous decades. The country confronts multiple economic challenges including demographic shifts, increased debt levels, and trade tensions with major economies. In response, the Chinese government has enacted policies focused on boosting domestic consumption, enhancing technological innovation, and fostering sustainable economic measures to secure stability and foster continuous development. Its growth trajectory has historically been strong; however, recent years have witnessed a moderation as the economy matures, transitioning towards a more service-oriented and consumption-driven market. Political and economic policies aimed at managing debt and restructuring the economy also play significant roles in shaping the GDP trends.\",\\n    \"reason\": \"The revised response integrates perspectives from the other economists, incorporating the impact of internal policy changes and the shift towards sustainable growth strategies, which were highlighted by another economist. This provides a more comprehensive outlook on China\\'s current economic conditions.\",\\n    \"further_improvement\": \"N\"\\n}']},\n",
       "  {'economist': ['{\\n    \"improvement\": \"Y\",\\n    \"response\": \"As of the last known data until 2023, while I do not have access to real-time data, it is observed that China\\'s GDP continues to grow, albeit at a decelerated pace compared to its historical high-growth periods. This moderated growth trend reflects multiple factors, including evolving trade dynamics with key partners such as the U.S., ongoing effects from the COVID-19 pandemic, and the Chinese government\\'s strategic shifts towards boosting domestic consumption and sustainable development to counteract potential economic imbalances such as high debt levels and an aging demographic. The focus has also been on technological innovation and environmental sustainability to forge a balanced and long-term growth trajectory.\",\\n    \"reason\": \"My improved response synthesizes insights from other economists, providing a more comprehensive overview of the factors influencing China\\'s GDP trends and the government\\'s strategic responses. It also aligns better with the current knowledge and avoids relying on outdated data.\",\\n    \"further_improvement\": \"N\"\\n}']},\n",
       "  {'economist': ['{\\n  \"improvement\": \"Y\",\\n  \"response\": \"I do not have access to real-time data, and my training only includes information up until September 2021. Historically, China has exhibited robust economic growth driven by manufacturing, exports, and domestic consumption. Recently, the growth pattern has become more complex due to trade tensions, the COVID-19 pandemic\\'s impact, and significant policy shifts in technology and real estate sectors. The government\\'s focus on sustainable and consumption-driven growth is aimed at stabilizing long-term economic health, but these changes may moderate the short-term GDP figures. For the latest GDP trends and more current data, please refer to the most recent economic reports or financial news updates.\",\\n  \"reason\": \"This revised response integrates insights from the other economists in my group about the influence of internal policy adjustments and global economic conditions, providing a more comprehensive overview. It also clarifies the lack of access to real-time data and directs the reader to seek the most updated information from reliable sources.\",\\n  \"further_improvement\": \"N\"\\n}']}],\n",
       " 'data analyst': [{'data analyst': ['```json\\n{\\n  \"improvement\": \"Y\",\\n  \"response\": \"As of the latest updates prior to 2023, China\\'s GDP growth has shown signs of deceleration from its historically rapid rates. This trend is largely attributed to multiple factors including government initiatives to curb debt risks, increasing trade tensions with the U.S., and the impactful challenges posed by the COVID-19 pandemic. Despite these issues, China’s economy continues to grow at a relatively strong pace. However, there are growing concerns regarding the sustainability of this growth amid persistent internal and external pressures. Post-pandemic, recovery faces additional hurdles such as domestic regulatory tightening particularly in the tech and education sectors, real estate market volatility, and demographic changes which all contribute to the complexity of predicting future economic trends.\",\\n  \"reason\": \"The improved response now incorporates more specific details about the challenges faced by China, such as regulatory tightening and demographic changes. It also acknowledges the complexity of predicting future economic trends, which is a key insight gained from the other specialists’ responses.\",\\n  \"further_improvement\": \"N\"\\n}\\n```']},\n",
       "  {'data analyst': ['{\\n  \"improvement\": \"Y\",\\n  \"response\": \"As of the latest records before 2023, China\\'s GDP trajectory reveals a complex evolution shaped by multifaceted influences. Initially, China exhibited a rapid recovery from the economic downturn caused by the COVID-19 pandemic, spurred by stringent public health strategies and robust fiscal stimulus. However, this resurgence has been tempered by a series of domestic challenges, including regulatory crackdowns on key sectors like technology and education, and instability within the real estate market, compounded by persistent trade frictions with major partners such as the USA. External global economic pressures and demographic changes within China have further complicated the scenario, leading to moderated growth predictions. The Chinese government is now prioritizing sustainable and high-quality development, indicating a potential departure from the high growth rates previously registered, in response to both internal and external economic pressures.\",\\n  \"reason\": \"The updated response synthesizes elements from both the original and the group’s analyses, providing a comprehensive view that highlights more recent challenges and the shift in governmental focus towards sustainable growth. This integration enhances understanding of the broader dynamics at play.\",\\n  \"further_improvement\": \"N\"\\n}']}]}"
      ]
     },
     "execution_count": 19,
     "metadata": {},
     "output_type": "execute_result"
    }
   ],
   "source": [
    "new_response"
   ]
  },
  {
   "cell_type": "code",
   "execution_count": null,
   "metadata": {},
   "outputs": [],
   "source": [
    "new_response"
   ]
  },
  {
   "cell_type": "code",
   "execution_count": null,
   "metadata": {},
   "outputs": [],
   "source": [
    "combined_response = {}\n",
    "combined_response['data analyst'] = []\n",
    "for item in new_response:\n",
    "    \n",
    "    # print(item['data analyst'])\n",
    "\n",
    "    combined_response['data analyst'].extend(item['data analyst'])\n",
    "\n",
    "print(combined_response)\n",
    "    "
   ]
  },
  {
   "cell_type": "code",
   "execution_count": null,
   "metadata": {},
   "outputs": [],
   "source": [
    "combined_response['data analyst'][0]"
   ]
  }
 ],
 "metadata": {
  "kernelspec": {
   "display_name": "AI_Swarm",
   "language": "python",
   "name": "python3"
  },
  "language_info": {
   "codemirror_mode": {
    "name": "ipython",
    "version": 3
   },
   "file_extension": ".py",
   "mimetype": "text/x-python",
   "name": "python",
   "nbconvert_exporter": "python",
   "pygments_lexer": "ipython3",
   "version": "3.9.20"
  }
 },
 "nbformat": 4,
 "nbformat_minor": 2
}
